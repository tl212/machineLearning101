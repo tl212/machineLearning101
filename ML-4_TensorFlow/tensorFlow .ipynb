{
 "cells": [
  {
   "cell_type": "code",
   "execution_count": 1,
   "metadata": {},
   "outputs": [],
   "source": [
    "import tensorflow as tf \n",
    "from tensorflow import keras\n",
    "import numpy as np\n",
    "import matplotlib.pyplot as plt \n"
   ]
  },
  {
   "cell_type": "markdown",
   "metadata": {},
   "source": [
    "### Loading and Looking at Data"
   ]
  },
  {
   "cell_type": "code",
   "execution_count": 2,
   "metadata": {},
   "outputs": [],
   "source": [
    "# importing dataset from keras \n",
    "\n",
    "data = keras.datasets.fashion_mnist "
   ]
  },
  {
   "cell_type": "code",
   "execution_count": 3,
   "metadata": {},
   "outputs": [],
   "source": [
    "# Separating data into train and test \n",
    "\n",
    "(train_images, train_labels), (test_images, test_labels) = data.load_data()"
   ]
  },
  {
   "cell_type": "code",
   "execution_count": 4,
   "metadata": {},
   "outputs": [],
   "source": [
    "class_names = ['T-shirt/top', 'Trouser', 'Pullover', 'Dress', 'Coat',\n",
    "               'Sandal', 'Shirt', 'Sneaker', 'Bag', 'Ankle boot']"
   ]
  },
  {
   "cell_type": "code",
   "execution_count": 5,
   "metadata": {},
   "outputs": [
    {
     "name": "stdout",
     "output_type": "stream",
     "text": [
      "[[0.         0.         0.         0.         0.         0.00392157\n",
      "  0.00392157 0.         0.         0.         0.         0.24705882\n",
      "  0.10980392 0.         0.         0.         0.12941176 0.33333333\n",
      "  0.         0.         0.         0.         0.         0.\n",
      "  0.         0.         0.         0.        ]\n",
      " [0.         0.         0.         0.         0.         0.00784314\n",
      "  0.         0.         0.10980392 0.49411765 0.94509804 1.\n",
      "  1.         1.         1.         1.         1.         0.98823529\n",
      "  0.97254902 0.43529412 0.         0.         0.         0.00784314\n",
      "  0.         0.         0.         0.        ]\n",
      " [0.         0.         0.         0.         0.00784314 0.\n",
      "  0.         0.80784314 0.95686275 0.98431373 0.94509804 0.90196078\n",
      "  0.93333333 0.86666667 0.80392157 0.90196078 0.94117647 0.90196078\n",
      "  0.9372549  0.98431373 0.91372549 0.64705882 0.         0.\n",
      "  0.00784314 0.         0.         0.        ]\n",
      " [0.         0.         0.         0.00392157 0.         0.\n",
      "  0.78039216 0.98431373 0.89411765 0.91764706 0.91372549 0.9254902\n",
      "  0.92156863 0.96078431 0.96862745 0.92941176 0.91764706 0.9372549\n",
      "  0.90196078 0.90196078 0.92156863 1.         0.69019608 0.\n",
      "  0.         0.00392157 0.         0.        ]\n",
      " [0.         0.         0.         0.         0.         0.31764706\n",
      "  0.99607843 0.88627451 0.89411765 0.9372549  0.92941176 0.9254902\n",
      "  0.91764706 0.90980392 0.91372549 0.92156863 0.92156863 0.9254902\n",
      "  0.9372549  0.92941176 0.91372549 0.88235294 0.96470588 0.28627451\n",
      "  0.         0.         0.         0.        ]\n",
      " [0.         0.         0.01176471 0.         0.         1.\n",
      "  0.92156863 0.9372549  0.8745098  0.91764706 0.93333333 0.9254902\n",
      "  0.92941176 0.9254902  0.92156863 0.92156863 0.92156863 0.92156863\n",
      "  0.9254902  0.92156863 0.91764706 0.90196078 0.90588235 1.\n",
      "  0.09411765 0.         0.01568627 0.        ]\n",
      " [0.         0.         0.         0.         0.69411765 0.9372549\n",
      "  0.8745098  0.99607843 0.8745098  0.90980392 0.91764706 0.91764706\n",
      "  0.9254902  0.9254902  0.92156863 0.92156863 0.92156863 0.92156863\n",
      "  0.92156863 0.91764706 0.90588235 0.91372549 0.87058824 0.96470588\n",
      "  0.34509804 0.         0.00392157 0.        ]\n",
      " [0.         0.         0.         0.         0.91764706 0.9372549\n",
      "  0.89803922 1.         0.8627451  0.90980392 0.91372549 0.90980392\n",
      "  0.91764706 0.92156863 0.92156863 0.92156863 0.92156863 0.92156863\n",
      "  0.91764706 0.91372549 0.90980392 0.90196078 0.89411765 0.99607843\n",
      "  0.54901961 0.         0.         0.        ]\n",
      " [0.         0.         0.         0.         0.88235294 0.94117647\n",
      "  0.88627451 1.         0.86666667 0.89019608 0.90980392 0.89411765\n",
      "  0.90588235 0.90196078 0.89411765 0.89803922 0.90588235 0.90196078\n",
      "  0.89411765 0.89411765 0.90980392 0.8745098  0.89803922 0.95686275\n",
      "  0.90588235 0.         0.         0.        ]\n",
      " [0.         0.         0.         0.18431373 0.96078431 0.90588235\n",
      "  0.91764706 0.97647059 0.89803922 0.86666667 0.89803922 0.88235294\n",
      "  0.89803922 0.89019608 0.88627451 0.89019608 0.89411765 0.89019608\n",
      "  0.89411765 0.89803922 0.89411765 0.87843137 0.96470588 0.94117647\n",
      "  0.89019608 0.         0.         0.        ]\n",
      " [0.         0.         0.         0.2        0.97254902 0.90196078\n",
      "  0.96078431 0.96470588 0.90196078 0.88627451 0.90196078 0.89019608\n",
      "  0.90196078 0.89803922 0.89411765 0.89803922 0.90196078 0.89411765\n",
      "  0.89411765 0.90588235 0.88235294 0.89019608 0.94901961 0.92941176\n",
      "  1.         0.         0.         0.        ]\n",
      " [0.         0.         0.         0.39607843 0.99215686 0.89803922\n",
      "  0.96862745 0.94509804 0.86666667 0.91372549 0.89411765 0.89019608\n",
      "  0.89803922 0.89411765 0.89019608 0.89411765 0.90196078 0.89019608\n",
      "  0.90196078 0.91764706 0.88235294 0.89803922 0.98431373 0.89803922\n",
      "  0.95294118 0.21568627 0.         0.        ]\n",
      " [0.         0.         0.         0.4        1.         0.89019608\n",
      "  0.94901961 0.94509804 0.86666667 0.91764706 0.8745098  0.90196078\n",
      "  0.89411765 0.90588235 0.89803922 0.90588235 0.90588235 0.89019608\n",
      "  0.89803922 0.94509804 0.85882353 0.9254902  0.99607843 0.88235294\n",
      "  0.98039216 0.65490196 0.         0.        ]\n",
      " [0.         0.         0.         0.35294118 1.         0.89803922\n",
      "  0.9254902  0.90588235 0.87058824 0.9254902  0.8745098  0.90588235\n",
      "  0.89803922 0.90588235 0.89803922 0.90588235 0.90588235 0.89411765\n",
      "  0.87843137 0.96078431 0.85490196 0.95294118 0.9372549  0.89019608\n",
      "  0.95686275 0.68627451 0.         0.        ]\n",
      " [0.         0.         0.         0.83137255 0.98039216 0.88235294\n",
      "  0.9254902  0.97647059 0.89803922 0.92941176 0.8745098  0.90588235\n",
      "  0.89803922 0.90588235 0.89803922 0.90588235 0.90588235 0.90196078\n",
      "  0.86666667 0.95294118 0.88235294 0.97254902 0.90196078 0.9254902\n",
      "  0.91764706 1.         0.00392157 0.        ]\n",
      " [0.         0.         0.         0.96078431 0.95294118 0.90980392\n",
      "  0.95294118 0.85490196 0.89411765 0.93333333 0.87058824 0.90588235\n",
      "  0.89803922 0.90588235 0.89803922 0.90588235 0.90588235 0.90196078\n",
      "  0.87058824 0.92941176 0.92941176 0.98823529 0.89803922 0.9372549\n",
      "  0.94117647 0.8745098  0.         0.        ]\n",
      " [0.         0.         0.10588235 1.         0.92156863 0.94901961\n",
      "  0.92941176 0.84705882 0.90196078 0.9254902  0.87843137 0.89803922\n",
      "  0.89019608 0.91372549 0.91372549 0.91372549 0.90196078 0.89411765\n",
      "  0.87843137 0.90196078 0.96078431 0.96862745 0.86666667 0.95294118\n",
      "  0.9372549  0.98823529 0.         0.        ]\n",
      " [0.         0.         0.34509804 1.         0.90980392 0.97254902\n",
      "  0.9254902  0.81568627 0.91764706 0.90588235 0.8745098  0.89019608\n",
      "  0.88627451 0.91372549 0.90980392 0.90980392 0.90196078 0.89411765\n",
      "  0.87843137 0.87843137 0.92156863 0.91372549 0.91764706 0.96862745\n",
      "  0.92156863 1.         0.         0.        ]\n",
      " [0.         0.         0.3254902  1.         0.88235294 0.98039216\n",
      "  0.92941176 0.87843137 0.9254902  0.89803922 0.88235294 0.88235294\n",
      "  0.89019608 0.92156863 0.89803922 0.90588235 0.90196078 0.90196078\n",
      "  0.89019608 0.86666667 0.89019608 0.86666667 0.9372549  0.98039216\n",
      "  0.90588235 1.         0.         0.        ]\n",
      " [0.         0.         0.07843137 1.         0.87843137 0.97254902\n",
      "  0.91764706 0.88627451 0.90980392 0.87058824 0.88235294 0.87843137\n",
      "  0.90588235 0.93333333 0.88627451 0.90196078 0.89411765 0.90196078\n",
      "  0.90196078 0.86666667 0.89803922 0.88235294 0.95686275 0.96470588\n",
      "  0.90196078 1.         0.         0.        ]\n",
      " [0.         0.         0.37254902 1.         0.85490196 0.94901961\n",
      "  1.         0.90980392 0.88627451 0.87843137 0.89803922 0.89411765\n",
      "  0.89411765 0.90980392 0.89411765 0.89803922 0.90588235 0.91372549\n",
      "  0.90980392 0.88627451 0.86666667 0.87843137 0.96862745 0.95686275\n",
      "  0.89411765 1.         0.         0.        ]\n",
      " [0.         0.         0.65490196 1.         0.83529412 0.92156863\n",
      "  1.         0.31764706 0.96078431 0.98431373 0.93333333 0.9254902\n",
      "  0.90196078 0.89803922 0.90196078 0.89803922 0.90196078 0.90588235\n",
      "  0.93333333 0.94117647 1.         0.75294118 1.         0.9372549\n",
      "  0.89411765 1.         0.09019608 0.        ]\n",
      " [0.         0.         0.67843137 0.94901961 0.87843137 0.91372549\n",
      "  1.         0.         0.53333333 0.88627451 0.9372549  1.\n",
      "  0.89803922 0.9254902  0.9254902  0.91764706 0.91372549 0.89411765\n",
      "  0.98431373 0.97254902 0.78431373 0.31764706 1.         0.92941176\n",
      "  0.88235294 1.         0.39607843 0.        ]\n",
      " [0.         0.         0.6745098  1.         0.88627451 0.91372549\n",
      "  1.         0.         0.         0.         0.         0.\n",
      "  0.03137255 0.08235294 0.08627451 0.08235294 0.07843137 0.05490196\n",
      "  0.         0.         0.         0.         1.         0.93333333\n",
      "  0.89803922 0.96470588 0.69803922 0.        ]\n",
      " [0.         0.         0.0627451  1.         0.9254902  0.93333333\n",
      "  0.98823529 0.         0.         0.         0.         0.\n",
      "  0.         0.         0.         0.         0.         0.\n",
      "  0.         0.         0.         0.         0.87058824 0.95686275\n",
      "  0.87058824 0.99607843 0.46666667 0.        ]\n",
      " [0.         0.         0.         0.11764706 0.89411765 0.94901961\n",
      "  0.63921569 0.         0.         0.         0.         0.00784314\n",
      "  0.01568627 0.02352941 0.01960784 0.01960784 0.01568627 0.01568627\n",
      "  0.00784314 0.         0.00392157 0.         0.59215686 0.98431373\n",
      "  0.92156863 0.70588235 0.         0.        ]\n",
      " [0.         0.         0.         0.         0.91764706 1.\n",
      "  0.74901961 0.         0.04313725 0.         0.         0.\n",
      "  0.         0.         0.         0.         0.         0.\n",
      "  0.         0.         0.01568627 0.         0.40392157 0.96470588\n",
      "  0.96862745 0.28235294 0.         0.        ]\n",
      " [0.         0.         0.         0.00392157 0.37254902 0.30196078\n",
      "  0.20392157 0.         0.01568627 0.         0.         0.\n",
      "  0.         0.         0.         0.         0.         0.\n",
      "  0.         0.         0.01176471 0.         0.32156863 0.92941176\n",
      "  0.90588235 0.2745098  0.         0.        ]]\n"
     ]
    }
   ],
   "source": [
    "train_images = train_images/255.0\n",
    "test_images = test_images/255.0\n",
    "\n",
    "print(train_images[7])"
   ]
  },
  {
   "cell_type": "code",
   "execution_count": 6,
   "metadata": {},
   "outputs": [
    {
     "data": {
      "image/png": "[encoded data removed]",
      "text/plain": [
       "<Figure size 432x288 with 1 Axes>"
      ]
     },
     "metadata": {
      "needs_background": "light"
     },
     "output_type": "display_data"
    }
   ],
   "source": [
    "plt.imshow(train_images[7])\n",
    "plt.show()"
   ]
  },
  {
   "cell_type": "markdown",
   "metadata": {},
   "source": [
    "### Creating a Model"
   ]
  },
  {
   "cell_type": "code",
   "execution_count": 9,
   "metadata": {},
   "outputs": [
    {
     "name": "stdout",
     "output_type": "stream",
     "text": [
      "Epoch 1/10\n",
      "60000/60000 [==============================] - 10s 163us/sample - loss: 0.4974 - acc: 0.8253\n",
      "Epoch 2/10\n",
      "60000/60000 [==============================] - 10s 173us/sample - loss: 0.3747 - acc: 0.8649\n",
      "Epoch 3/10\n",
      "60000/60000 [==============================] - 10s 174us/sample - loss: 0.3395 - acc: 0.8752\n",
      "Epoch 4/10\n",
      "60000/60000 [==============================] - 10s 168us/sample - loss: 0.3139 - acc: 0.8840\n",
      "Epoch 5/10\n",
      "60000/60000 [==============================] - 10s 166us/sample - loss: 0.2962 - acc: 0.8903\n",
      "Epoch 6/10\n",
      "60000/60000 [==============================] - 10s 170us/sample - loss: 0.2810 - acc: 0.8951\n",
      "Epoch 7/10\n",
      "60000/60000 [==============================] - 10s 174us/sample - loss: 0.2672 - acc: 0.9011\n",
      "Epoch 8/10\n",
      "60000/60000 [==============================] - 10s 175us/sample - loss: 0.2570 - acc: 0.9044\n",
      "Epoch 9/10\n",
      "60000/60000 [==============================] - 10s 171us/sample - loss: 0.2472 - acc: 0.9076\n",
      "Epoch 10/10\n",
      "60000/60000 [==============================] - 10s 165us/sample - loss: 0.2381 - acc: 0.9100\n",
      "10000/10000 [==============================] - 1s 79us/sample - loss: 0.3379 - acc: 0.8814\n",
      "Tested Accuracy:  0.8814\n"
     ]
    }
   ],
   "source": [
    "model = keras.Sequential([keras.layers.Flatten(input_shape=(28,28)),\n",
    "                         keras.layers.Dense(128, activation='relu'), \n",
    "                         keras.layers.Dense(10, activation='softmax')\n",
    "                         ])\n",
    "\n",
    "model.compile(optimizer='adam', loss='sparse_categorical_crossentropy', metrics=['accuracy'])\n",
    "\n",
    "model.fit(train_images, train_labels, epochs=10)\n",
    "\n",
    "test_loss, test_acc = model.evaluate(test_images, test_labels)\n",
    "\n",
    "print('Tested Accuracy: ', test_acc)\n",
    "\n",
    "\n"
   ]
  },
  {
   "cell_type": "code",
   "execution_count": null,
   "metadata": {},
   "outputs": [],
   "source": []
  }
 ],
 "metadata": {
  "kernelspec": {
   "display_name": "Python 3",
   "language": "python",
   "name": "python3"
  },
  "language_info": {
   "codemirror_mode": {
    "name": "ipython",
    "version": 3
   },
   "file_extension": ".py",
   "mimetype": "text/x-python",
   "name": "python",
   "nbconvert_exporter": "python",
   "pygments_lexer": "ipython3",
   "version": "3.6.8"
  }
 },
 "nbformat": 4,
 "nbformat_minor": 2
}
